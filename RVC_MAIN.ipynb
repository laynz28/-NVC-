{
  "cells": [
    {
      "cell_type": "markdown",
      "metadata": {
        "id": "view-in-github",
        "colab_type": "text"
      },
      "source": [
        "<a href=\"https://colab.research.google.com/github/laynz28/-NVC-/blob/main/RVC_MAIN.ipynb\" target=\"_parent\"><img src=\"https://colab.research.google.com/assets/colab-badge.svg\" alt=\"Open In Colab\"/></a>"
      ]
    },
    {
      "cell_type": "markdown",
      "metadata": {
        "id": "ZFFCx5J80SGa"
      },
      "source": [
        "[![Open In Colab](https://colab.research.google.com/assets/colab-badge.svg)](https://colab.research.google.com/github/RVC-Project/Retrieval-based-Voice-Conversion-WebUI/blob/main/Retrieval_based_Voice_Conversion_WebUI_v2.ipynb) original notebook"
      ]
    },
    {
      "cell_type": "code",
      "execution_count": null,
      "metadata": {
        "id": "GmFP6bN9dvOq",
        "cellView": "form"
      },
      "outputs": [],
      "source": [
        "# @title #View graphics card\n",
        "from IPython.display import clear_output\n",
        "!nvidia-smi"
      ]
    },
    {
      "cell_type": "code",
      "execution_count": null,
      "metadata": {
        "id": "jwu07JgqoFON",
        "cellView": "form"
      },
      "outputs": [],
      "source": [
        "# @title #mount drive\n",
        "\n",
        "from google.colab import drive\n",
        "\n",
        "drive.mount(\"/content/drive\")"
      ]
    },
    {
      "cell_type": "code",
      "execution_count": null,
      "metadata": {
        "id": "wjddIFr1oS3W",
        "cellView": "form"
      },
      "outputs": [],
      "source": [
        "#@title #Install dependencies (if you want)\n",
        "!pip install pyngrok\n",
        "!pip install tensorflow==2.12.0\n",
        "!pip3 install faiss-cpu==1.7.2 fairseq gradio==3.14.0 ffmpeg ffmpeg-python praat-parselmouth pyworld numpy==1.23.5 numba==0.56.4 librosa==0.9.2\n",
        "!python3 -m pip install -U demucs\n",
        "!pip install yt_dlp\n",
        "!pip install ffmpeg\n",
        "clear_output()"
      ]
    },
    {
      "cell_type": "code",
      "execution_count": null,
      "metadata": {
        "id": "ge_97mfpgqTm",
        "cellView": "form"
      },
      "outputs": [],
      "source": [
        "# @title #Clone repository\n",
        "RVC = \"https://github.com/HoshioPilio/project-main.git\"\n",
        "\n",
        "!git clone $RVC\n",
        "%cd /content/project-main"
      ]
    },
    {
      "cell_type": "code",
      "execution_count": null,
      "metadata": {
        "id": "UG3XpUwEomUz",
        "cellView": "form"
      },
      "outputs": [],
      "source": [
        "\n",
        "#@title #download files\n",
        "\n",
        "Source = \"download_files\"\n",
        "\n",
        "!python $Source.py"
      ]
    },
    {
      "cell_type": "code",
      "source": [
        "#@title #Input Youtube WAV Download\n",
        "\n",
        "Mode = \"Separate\"\n",
        "dataset = \"Youtube\"\n",
        "url = \"https://youtu.be/Xu-69SCoPL4?si=kCJCKj1BvThPAgqj\" #@param {type:\"string\"}\n",
        "AUDIO_NAME = \"idol\" #@param {type:\"string\"}"
      ],
      "metadata": {
        "cellView": "form",
        "id": "chm3wbNtvtc3"
      },
      "execution_count": null,
      "outputs": []
    },
    {
      "cell_type": "code",
      "source": [
        "#@title #Download Youtube WAV\n",
        "from __future__ import unicode_literals\n",
        "\n",
        "if dataset == \"Drive\":\n",
        "  print(\"Dataset is set to Drive. Skipping this section\")\n",
        "elif dataset == \"Youtube\":\n",
        "  import yt_dlp\n",
        "  import ffmpeg\n",
        "  import sys\n",
        "\n",
        "\n",
        "  ydl_opts = {\n",
        "      'format': 'bestaudio/best',\n",
        "  #    'outtmpl': 'output.%(ext)s',\n",
        "      'postprocessors': [{\n",
        "          'key': 'FFmpegExtractAudio',\n",
        "          'preferredcodec': 'wav',\n",
        "      }],\n",
        "      \"outtmpl\": f'youtubeaudio/{AUDIO_NAME}',  # this is where you can edit how you'd like the filenames to be formatted\n",
        "  }\n",
        "  def download_from_url(url):\n",
        "      ydl.download([url])\n",
        "      # stream = ffmpeg.input('output.m4a')\n",
        "      # stream = ffmpeg.output(stream, 'output.wav')\n",
        "\n",
        "\n",
        "  with yt_dlp.YoutubeDL(ydl_opts) as ydl:\n",
        "\n",
        "        download_from_url(url)"
      ],
      "metadata": {
        "cellView": "form",
        "id": "P8xjmIl8vk9r"
      },
      "execution_count": null,
      "outputs": []
    },
    {
      "cell_type": "code",
      "source": [
        "#@title #Separate Vocal and Instrument/Noise using Demucs\n",
        "import subprocess\n",
        "AUDIO_INPUT = f\"/content/youtubeaudio/{AUDIO_NAME}.wav\"\n",
        "\n",
        "if dataset == \"Drive\":\n",
        "  command = f\"demucs --two-stems=vocals {drive_path}\"\n",
        "elif dataset == \"Youtube\":\n",
        "  command = f\"demucs --two-stems=vocals {AUDIO_INPUT}\"\n",
        "\n",
        "result = subprocess.run(command.split(), stdout=subprocess.PIPE)\n",
        "print(result.stdout.decode())"
      ],
      "metadata": {
        "cellView": "form",
        "id": "ZBT1jTz9vbO8"
      },
      "execution_count": null,
      "outputs": []
    },
    {
      "cell_type": "code",
      "source": [
        "\n",
        "#@title #copy audio file to drive\n",
        "\n",
        "!mkdir -p /content/drive/MyDrive/audio/{AUDIO_NAME}\n",
        "!cp -r /content/separated/htdemucs/{AUDIO_NAME}/* /content/drive/MyDrive/audio/{AUDIO_NAME}\n",
        "if dataset == \"Youtube\":\n",
        "  !cp -r /content/youtubeaudio/{AUDIO_NAME}.wav /content/drive/MyDrive/audio/{AUDIO_NAME}\n",
        "!mv /content/drive/MyDrive/audio/{AUDIO_NAME}/vocals.wav /content/project-main/audios"
      ],
      "metadata": {
        "cellView": "form",
        "id": "aDWN1_JHu1fJ"
      },
      "execution_count": null,
      "outputs": []
    },
    {
      "cell_type": "code",
      "execution_count": null,
      "metadata": {
        "id": "7vh6vphDwO0b",
        "cellView": "form"
      },
      "outputs": [],
      "source": [
        "# @title #run webui\n",
        "ngrok_authtoken = \"2VqrgGnzNs2bSC0racuiPMMq52U_2sW8K1uh5KTb7rkpNrT7H\"#@param {type:\"string\"}\n",
        "!ngrok config add-authtoken {ngrok_authtoken}\n",
        "%cd /content/Retrieval-based-Voice-Conversion-WebUI\n",
        "!rm -r /content/sample_data\n",
        "from pyngrok import ngrok\n",
        "ngrok.kill()\n",
        "print(\"Tensorboard NGROK URL:\",end=\"\")\n",
        "ngrok_url = ngrok.connect(7860)\n",
        "print(ngrok_url)\n",
        "!python app.py --colab"
      ]
    }
  ],
  "metadata": {
    "accelerator": "GPU",
    "colab": {
      "private_outputs": true,
      "provenance": [],
      "include_colab_link": true
    },
    "gpuClass": "standard",
    "kernelspec": {
      "display_name": "Python 3",
      "name": "python3"
    },
    "language_info": {
      "name": "python"
    }
  },
  "nbformat": 4,
  "nbformat_minor": 0
}